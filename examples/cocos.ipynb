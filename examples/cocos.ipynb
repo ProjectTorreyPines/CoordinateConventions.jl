{
 "cells": [
  {
   "cell_type": "code",
   "execution_count": 7,
   "id": "9c3454f0-dfc6-4f9e-97b1-4ab0d94373ae",
   "metadata": {},
   "outputs": [],
   "source": [
    "using CoordinateConventions"
   ]
  },
  {
   "cell_type": "code",
   "execution_count": 8,
   "id": "29037cab-45b5-4c1c-8eea-cd826df60145",
   "metadata": {},
   "outputs": [
    {
     "data": {
      "text/plain": [
       "COCOS = 11\n",
       " e_Bp [exp_Bp] = 1\n",
       " σ_Bp [sigma_Bp] = 1\n",
       " σ_RΦZ [sigma_RpZ] = (R,Φ,Z): 1\n",
       " σ_ρθΦ [sigma_rhotp] = (ρ,θ,Φ): 1\n",
       " Φ from top: CCW\n",
       " θ from front: CW\n",
       " ψ_ref = Increasing assuming +Ip, +B0\n",
       " sign(q) [sign_q_pos] = 1 assuming +Ip, +B0\n",
       " sign(p') [sign_pprime_pos] = -1 assuming +Ip, +B0"
      ]
     },
     "metadata": {},
     "output_type": "display_data"
    }
   ],
   "source": [
    "cocos(11)"
   ]
  },
  {
   "cell_type": "code",
   "execution_count": 10,
   "id": "6b9d5926-13a2-4601-8779-58621abeb438",
   "metadata": {},
   "outputs": [
    {
     "data": {
      "text/plain": [
       "Dict{Any, Any} with 17 entries:\n",
       "  \"Z\"        => 1.0\n",
       "  \"BT\"       => 1.0\n",
       "  \"Q\"        => -1\n",
       "  \"P\"        => 1.0\n",
       "  \"B\"        => 1.0\n",
       "  \"F_FPRIME\" => -6.28319\n",
       "  \"ψ\"        => -0.159155\n",
       "  \"TOR\"      => 1.0\n",
       "  \"Φ\"        => 1.0\n",
       "  \"POL\"      => -1\n",
       "  \"PSI\"      => -0.159155\n",
       "  \"I\"        => 1.0\n",
       "  \"J\"        => 1.0\n",
       "  \"BP\"       => -1.0\n",
       "  \"R\"        => 1.0\n",
       "  \"F\"        => 1.0\n",
       "  \"PPRIME\"   => -6.28319"
      ]
     },
     "metadata": {},
     "output_type": "display_data"
    }
   ],
   "source": [
    "transform_cocos(11, 3)"
   ]
  }
 ],
 "metadata": {
  "kernelspec": {
   "display_name": "Julia 1.10.0",
   "language": "julia",
   "name": "julia-1.10"
  },
  "language_info": {
   "file_extension": ".jl",
   "mimetype": "application/julia",
   "name": "julia",
   "version": "1.10.0"
  }
 },
 "nbformat": 4,
 "nbformat_minor": 5
}
