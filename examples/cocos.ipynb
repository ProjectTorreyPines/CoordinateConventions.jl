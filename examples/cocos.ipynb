{
 "cells": [
  {
   "cell_type": "code",
   "execution_count": 2,
   "id": "9c3454f0-dfc6-4f9e-97b1-4ab0d94373ae",
   "metadata": {},
   "outputs": [
    {
     "name": "stderr",
     "output_type": "stream",
     "text": [
      "\u001b[32m\u001b[1m  Activating\u001b[22m\u001b[39m project at `~/Coding/julia/CoordinateConventions`\n"
     ]
    }
   ],
   "source": [
    "using Pkg\n",
    "Pkg.activate(\"..\")\n",
    "using Revise\n",
    "using CoordinateConventions"
   ]
  },
  {
   "cell_type": "code",
   "execution_count": 4,
   "id": "29037cab-45b5-4c1c-8eea-cd826df60145",
   "metadata": {},
   "outputs": [
    {
     "data": {
      "text/plain": [
       "COCOS = 11\n",
       " e_Bp  = 1\n",
       " σ_Bp  = 1\n",
       " σ_RΦZ = (R,Φ,Z): 1\n",
       " σ_ρθΦ = (ρ,θ,Φ): 1\n",
       " Φ from top: CCW\n",
       " θ from front: CW\n",
       " ψ_ref: Increasing assuming +Ip, +B0\n",
       " sign(q) = 1 assuming +Ip, +B0\n",
       " sign(p') = -1 assuming +Ip, +B0"
      ]
     },
     "execution_count": 4,
     "metadata": {},
     "output_type": "execute_result"
    }
   ],
   "source": [
    "cocos(11)"
   ]
  },
  {
   "cell_type": "code",
   "execution_count": 5,
   "id": "6b9d5926-13a2-4601-8779-58621abeb438",
   "metadata": {},
   "outputs": [
    {
     "ename": "LoadError",
     "evalue": "UndefVarError: cocos_transform not defined",
     "output_type": "error",
     "traceback": [
      "UndefVarError: cocos_transform not defined",
      "",
      "Stacktrace:",
      " [1] top-level scope",
      "   @ In[5]:1",
      " [2] eval",
      "   @ ./boot.jl:373 [inlined]",
      " [3] include_string(mapexpr::typeof(REPL.softscope), mod::Module, code::String, filename::String)",
      "   @ Base ./loading.jl:1196"
     ]
    }
   ],
   "source": [
    "cocos_transform(11, 1)"
   ]
  },
  {
   "cell_type": "code",
   "execution_count": null,
   "id": "8aa0cc72-3353-461b-bdb2-ef74d9ca75e7",
   "metadata": {},
   "outputs": [],
   "source": []
  }
 ],
 "metadata": {
  "kernelspec": {
   "display_name": "Julia 1.7.0",
   "language": "julia",
   "name": "julia-1.7"
  },
  "language_info": {
   "file_extension": ".jl",
   "mimetype": "application/julia",
   "name": "julia",
   "version": "1.7.0"
  }
 },
 "nbformat": 4,
 "nbformat_minor": 5
}
